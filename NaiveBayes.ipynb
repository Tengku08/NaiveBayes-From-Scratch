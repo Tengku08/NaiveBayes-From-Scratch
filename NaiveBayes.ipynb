{
 "cells": [
  {
   "cell_type": "code",
   "execution_count": 1,
   "metadata": {},
   "outputs": [],
   "source": [
    "import numpy as np\n",
    "import csv\n",
    "import pandas"
   ]
  },
  {
   "cell_type": "code",
   "execution_count": 43,
   "metadata": {},
   "outputs": [],
   "source": [
    "Dt = pandas.read_csv('DataSet/TestsetTugas1ML.csv')\n",
    "Ts = pandas.read_csv('DataSet/TrainsetTugas1ML.csv')\n",
    "L50k = Ts.loc[Ts['income'] == '>50K']\n",
    "Lk50k = Ts.loc[Ts['income'] == '<=50K']\n",
    "Tsnew=[]\n",
    "a = 0\n",
    "for Nlist in list(Ts):\n",
    "    if (a != 0 and a != (len(list(Ts))-1)):\n",
    "        Tsnew.append(Nlist)\n",
    "    a = a +1"
   ]
  },
  {
   "cell_type": "code",
   "execution_count": 50,
   "metadata": {},
   "outputs": [
    {
     "name": "stdout",
     "output_type": "stream",
     "text": [
      "<=50k\n",
      "<=50k\n",
      ">50k\n",
      "<=50k\n",
      ">50k\n",
      ">50k\n",
      "<=50k\n",
      "<=50k\n",
      ">50k\n",
      ">50k\n",
      ">50k\n",
      ">50k\n",
      "<=50k\n",
      ">50k\n",
      ">50k\n",
      ">50k\n",
      "<=50k\n",
      ">50k\n",
      "<=50k\n",
      ">50k\n",
      ">50k\n",
      ">50k\n",
      ">50k\n",
      ">50k\n",
      ">50k\n",
      ">50k\n",
      ">50k\n",
      ">50k\n",
      ">50k\n",
      "<=50k\n",
      "<=50k\n",
      "<=50k\n",
      ">50k\n",
      ">50k\n",
      "<=50k\n",
      ">50k\n",
      "<=50k\n",
      ">50k\n",
      ">50k\n",
      ">50k\n"
     ]
    }
   ],
   "source": [
    "def NaiveHitung (Ts,Dtest):\n",
    "    Ayes = 1\n",
    "    Ano = 1\n",
    "    for n in Tsnew:\n",
    "        m = Dtest[n]\n",
    "        Ayes = Ayes *  L50k.loc[L50k[n] == m].count() / len(L50k)\n",
    "        Ano = Ano * Lk50k.loc[Lk50k[n] == m].count() / len(Lk50k)\n",
    "    Ayes = Ayes * len(L50k) / len(Ts)\n",
    "    Ano = Ano * len(Lk50k) / len(Ts)\n",
    "    if Ano[0] < Ayes[0]:\n",
    "        print ('>50k')\n",
    "    else:\n",
    "        print ('<=50k') \n",
    "c = 0\n",
    "while c < len(Dt):\n",
    "    NaiveHitung(Ts,Dt.loc[c])\n",
    "    c = c + 1"
   ]
  }
 ],
 "metadata": {
  "kernelspec": {
   "display_name": "Python 3",
   "language": "python",
   "name": "python3"
  },
  "language_info": {
   "codemirror_mode": {
    "name": "ipython",
    "version": 3
   },
   "file_extension": ".py",
   "mimetype": "text/x-python",
   "name": "python",
   "nbconvert_exporter": "python",
   "pygments_lexer": "ipython3",
   "version": "3.7.1"
  }
 },
 "nbformat": 4,
 "nbformat_minor": 2
}
