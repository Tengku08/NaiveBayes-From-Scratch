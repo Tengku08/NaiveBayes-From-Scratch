{
 "cells": [
  {
   "cell_type": "code",
   "execution_count": 1,
   "metadata": {},
   "outputs": [],
   "source": [
    "import pandas"
   ]
  },
  {
   "cell_type": "code",
   "execution_count": null,
   "metadata": {},
   "outputs": [],
   "source": [
    "Dt = pandas.read_csv('DataSet/TestsetTugas1ML.csv')\n",
    "Ts = pandas.read_csv('DataSet/TrainsetTugas1ML.csv')\n",
    "L50k, Lk50k = Ts.loc[Ts['income'] == '>50K'],  Ts.loc[Ts['income'] == '<=50K']\n",
    "Tsnew , HasilTotal = [] , []\n",
    "a, c = 0, 0\n",
    "for Nlist in list(Ts):\n",
    "    if (a != 0 and a != (len(list(Ts))-1)):\n",
    "        Tsnew.append(Nlist)\n",
    "    a += 1"
   ]
  },
  {
   "cell_type": "code",
   "execution_count": null,
   "metadata": {},
   "outputs": [
    {
     "name": "stdout",
     "output_type": "stream",
     "text": [
      "<=50k\n",
      "<=50k\n",
      ">50k\n",
      "<=50k\n",
      ">50k\n",
      ">50k\n",
      "<=50k\n",
      "<=50k"
     ]
    }
   ],
   "source": [
    "def NaiveHitung (Ts,Dtest):\n",
    "    Ayes,Ano = 1 , 1\n",
    "    for n in Tsnew:\n",
    "        m = Dtest[n]\n",
    "        Ayes *= L50k.loc[L50k[n] == m].count() / len(L50k)\n",
    "        Ano *= Lk50k.loc[Lk50k[n] == m].count() / len(Lk50k)\n",
    "    Ayes *= len(L50k) / len(Ts)\n",
    "    Ano *= len(Lk50k) / len(Ts)\n",
    "    HasilYes = Ayes / (Ano+Ayes)\n",
    "    HasilNo = Ano / (Ano+Ayes)\n",
    "    if HasilYes[0] > HasilNo[0]:\n",
    "        HasilTotal.append('>50k')\n",
    "        print ('>50k')\n",
    "    else:\n",
    "        HasilTotal.append('<=50k')\n",
    "        print ('<=50k') \n",
    "while c < len(Dt):\n",
    "    NaiveHitung(Ts,Dt.loc[c])\n",
    "    c += 1"
   ]
  },
  {
   "cell_type": "code",
   "execution_count": null,
   "metadata": {},
   "outputs": [],
   "source": [
    "Dt[len(list(Ts))-1] = HasilTotal\n",
    "Dt.to_csv(\"hasil.csv\", encoding='utf-8', index=False, header=False)"
   ]
  }
 ],
 "metadata": {
  "kernelspec": {
   "display_name": "Python 3",
   "language": "python",
   "name": "python3"
  },
  "language_info": {
   "codemirror_mode": {
    "name": "ipython",
    "version": 3
   },
   "file_extension": ".py",
   "mimetype": "text/x-python",
   "name": "python",
   "nbconvert_exporter": "python",
   "pygments_lexer": "ipython3",
   "version": "3.7.1"
  }
 },
 "nbformat": 4,
 "nbformat_minor": 2
}
